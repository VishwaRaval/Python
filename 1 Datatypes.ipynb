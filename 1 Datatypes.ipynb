{
 "cells": [
  {
   "cell_type": "markdown",
   "id": "6d1658c6",
   "metadata": {},
   "source": [
    "# Variour Datatypes in Python\n",
    "## Datatypes\n",
    "- Numbers\n"
   ]
  },
  {
   "cell_type": "code",
   "execution_count": 1,
   "id": "3bae74b3",
   "metadata": {},
   "outputs": [
    {
     "data": {
      "text/plain": [
       "2"
      ]
     },
     "execution_count": 1,
     "metadata": {},
     "output_type": "execute_result"
    }
   ],
   "source": [
    "1+1"
   ]
  },
  {
   "cell_type": "code",
   "execution_count": 4,
   "id": "11eeb57b",
   "metadata": {},
   "outputs": [
    {
     "data": {
      "text/plain": [
       "str"
      ]
     },
     "execution_count": 4,
     "metadata": {},
     "output_type": "execute_result"
    }
   ],
   "source": [
    "type('q')"
   ]
  },
  {
   "cell_type": "code",
   "execution_count": 5,
   "id": "50d806eb",
   "metadata": {},
   "outputs": [
    {
     "data": {
      "text/plain": [
       "bool"
      ]
     },
     "execution_count": 5,
     "metadata": {},
     "output_type": "execute_result"
    }
   ],
   "source": [
    "type(True)"
   ]
  },
  {
   "cell_type": "code",
   "execution_count": 6,
   "id": "c0007a67",
   "metadata": {},
   "outputs": [
    {
     "data": {
      "text/plain": [
       "float"
      ]
     },
     "execution_count": 6,
     "metadata": {},
     "output_type": "execute_result"
    }
   ],
   "source": [
    "type(10.0)"
   ]
  },
  {
   "cell_type": "code",
   "execution_count": 2,
   "id": "24fcb3bb",
   "metadata": {},
   "outputs": [
    {
     "data": {
      "text/plain": [
       "int"
      ]
     },
     "execution_count": 2,
     "metadata": {},
     "output_type": "execute_result"
    }
   ],
   "source": [
    "type(1)"
   ]
  },
  {
   "cell_type": "code",
   "execution_count": 7,
   "id": "cd348b2c",
   "metadata": {},
   "outputs": [
    {
     "ename": "NameError",
     "evalue": "name 'm' is not defined",
     "output_type": "error",
     "traceback": [
      "\u001b[1;31m---------------------------------------------------------------------------\u001b[0m",
      "\u001b[1;31mNameError\u001b[0m                                 Traceback (most recent call last)",
      "\u001b[1;32mC:\\Users\\VISHWA~1\\AppData\\Local\\Temp/ipykernel_3360/1497821502.py\u001b[0m in \u001b[0;36m<module>\u001b[1;34m\u001b[0m\n\u001b[1;32m----> 1\u001b[1;33m \u001b[0mm\u001b[0m\u001b[1;33m\u001b[0m\u001b[1;33m\u001b[0m\u001b[0m\n\u001b[0m",
      "\u001b[1;31mNameError\u001b[0m: name 'm' is not defined"
     ]
    }
   ],
   "source": [
    "m"
   ]
  },
  {
   "cell_type": "code",
   "execution_count": 8,
   "id": "1236492f",
   "metadata": {},
   "outputs": [
    {
     "name": "stdout",
     "output_type": "stream",
     "text": [
      "Vishwa\n"
     ]
    }
   ],
   "source": [
    "print(\"Vishwa\")"
   ]
  },
  {
   "cell_type": "markdown",
   "id": "95faf8f0",
   "metadata": {},
   "source": [
    "- Dynamic print using '.format'"
   ]
  },
  {
   "cell_type": "code",
   "execution_count": 11,
   "id": "f77be282",
   "metadata": {},
   "outputs": [
    {
     "name": "stdout",
     "output_type": "stream",
     "text": [
      "My first name is Vishwa and my last name is Raval.\n"
     ]
    }
   ],
   "source": [
    "fn='Vishwa'\n",
    "ln='Raval'\n",
    "\n",
    "print(\"My first name is {} and my last name is {}.\".format(fn, ln))"
   ]
  },
  {
   "cell_type": "code",
   "execution_count": 12,
   "id": "08cc9103",
   "metadata": {},
   "outputs": [
    {
     "name": "stdout",
     "output_type": "stream",
     "text": [
      "My first name is Vishwa and my last name is Raval.\n"
     ]
    }
   ],
   "source": [
    "print(\"My first name is {first} and my last name is {last}.\".format(first=fn, last=ln))"
   ]
  },
  {
   "cell_type": "code",
   "execution_count": 13,
   "id": "1fd5b9d0",
   "metadata": {},
   "outputs": [
    {
     "data": {
      "text/plain": [
       "7"
      ]
     },
     "execution_count": 13,
     "metadata": {},
     "output_type": "execute_result"
    }
   ],
   "source": [
    "len('Vishwa ')"
   ]
  },
  {
   "cell_type": "code",
   "execution_count": 14,
   "id": "cc00853f",
   "metadata": {},
   "outputs": [
    {
     "data": {
      "text/plain": [
       "list"
      ]
     },
     "execution_count": 14,
     "metadata": {},
     "output_type": "execute_result"
    }
   ],
   "source": [
    "type(['1', 2])"
   ]
  },
  {
   "cell_type": "markdown",
   "id": "fa68ff1c",
   "metadata": {},
   "source": [
    "- String and String operations"
   ]
  },
  {
   "cell_type": "code",
   "execution_count": 18,
   "id": "e9c1541e",
   "metadata": {},
   "outputs": [],
   "source": [
    "my_str='Vishwa Raval'"
   ]
  },
  {
   "cell_type": "code",
   "execution_count": null,
   "id": "c23c59dd",
   "metadata": {},
   "outputs": [],
   "source": [
    "my_st"
   ]
  }
 ],
 "metadata": {
  "kernelspec": {
   "display_name": "Python 3 (ipykernel)",
   "language": "python",
   "name": "python3"
  },
  "language_info": {
   "codemirror_mode": {
    "name": "ipython",
    "version": 3
   },
   "file_extension": ".py",
   "mimetype": "text/x-python",
   "name": "python",
   "nbconvert_exporter": "python",
   "pygments_lexer": "ipython3",
   "version": "3.9.7"
  }
 },
 "nbformat": 4,
 "nbformat_minor": 5
}
